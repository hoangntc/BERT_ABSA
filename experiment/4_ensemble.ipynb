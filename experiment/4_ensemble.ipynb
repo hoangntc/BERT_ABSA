{
 "cells": [
  {
   "cell_type": "code",
   "execution_count": 1,
   "id": "8ea9b30e",
   "metadata": {},
   "outputs": [
    {
     "name": "stderr",
     "output_type": "stream",
     "text": [
      "/tmp/ipykernel_2714419/2032842600.py:2: TqdmExperimentalWarning: Using `tqdm.autonotebook.tqdm` in notebook mode. Use `tqdm.tqdm` instead to force console mode (e.g. in jupyter console)\n",
      "  from tqdm.autonotebook import tqdm\n"
     ]
    },
    {
     "name": "stdout",
     "output_type": "stream",
     "text": [
      "PROJ_PATH=/home/hoang/github/BERT_ABSA\n"
     ]
    }
   ],
   "source": [
    "import os, sys, re, datetime, random, gzip, json\n",
    "from tqdm.autonotebook import tqdm\n",
    "import pandas as pd\n",
    "import numpy as np\n",
    "import glob\n",
    "from pathlib import Path\n",
    "from itertools import accumulate\n",
    "import argparse\n",
    "import torch\n",
    "import torch.nn as nn\n",
    "import torch.optim as optim\n",
    "import torch.nn.functional as F\n",
    "from torch.utils.data import Dataset, DataLoader, random_split\n",
    "from transformers import BertTokenizer, BertModel, BertForSequenceClassification\n",
    "\n",
    "from time import time\n",
    "from math import ceil\n",
    "from multiprocessing import Pool\n",
    "from sentence_transformers import SentenceTransformer, models, losses, InputExample\n",
    "\n",
    "import pytorch_lightning as pl\n",
    "from pytorch_lightning.trainer.trainer import Trainer\n",
    "from pytorch_lightning.callbacks import ModelCheckpoint, EarlyStopping\n",
    "from pytorch_lightning.utilities.seed import seed_everything\n",
    "\n",
    "PROJ_PATH = Path(os.path.join(re.sub(\"/BERT_ABSA.*$\", '', os.getcwd()), 'BERT_ABSA'))\n",
    "print(f'PROJ_PATH={PROJ_PATH}')\n",
    "sys.path.insert(1, str(PROJ_PATH))\n",
    "sys.path.insert(1, str(PROJ_PATH/'src'))\n",
    "import utils\n",
    "import matplotlib.pyplot as plt\n",
    "\n",
    "%matplotlib inline"
   ]
  },
  {
   "cell_type": "code",
   "execution_count": 2,
   "id": "21cf9c53",
   "metadata": {},
   "outputs": [],
   "source": [
    "# glob.glob('../model/restaurants/*.ckpt')"
   ]
  },
  {
   "cell_type": "code",
   "execution_count": 3,
   "id": "22c03c90",
   "metadata": {},
   "outputs": [],
   "source": [
    "import nltk\n",
    "def tokenization(text):\n",
    "    text = text.strip().lower()\n",
    "    tokens = nltk.word_tokenize(text)\n",
    "    return tokens\n",
    "\n",
    "def bucketize(text_length):\n",
    "    if text_length < 15:\n",
    "        return 0\n",
    "    elif text_length < 20:\n",
    "        return 1\n",
    "    elif text_length < 30:\n",
    "        return 2\n",
    "    else:\n",
    "        return 3\n",
    "def get_pred_label(x):\n",
    "    if max([x.pred_0, x.pred_1, x.pred_2]) == x.pred_0:\n",
    "        return 'positive'\n",
    "    elif max([x.pred_0, x.pred_1, x.pred_2]) == x.pred_1:\n",
    "        return 'negative'\n",
    "    else: return 'neutral'"
   ]
  },
  {
   "cell_type": "code",
   "execution_count": 4,
   "id": "d23bb5e3",
   "metadata": {},
   "outputs": [],
   "source": [
    "df = pd.read_csv('../output/bert_laptop.csv')\n",
    "labelid2str = {0: 'positive', 1: 'negative', 2: 'neutral'}\n",
    "labelid2str_ordinal = {0: 'negative', 1: 'neutral', 2: 'positive'}\n",
    "df['label_id_ordinal'] = df['label'].map({j:i for i,j in labelid2str_ordinal.items()})\n",
    "df['pred_label'] = df[['pred_0', 'pred_1', 'pred_2']].apply(get_pred_label, axis=1)\n",
    "df['pred_id'] = df['pred_label'].map({j:i for i,j in labelid2str.items()})\n",
    "df['pred_id_ordinal'] = df['pred_label'].map({j:i for i,j in labelid2str_ordinal.items()})\n",
    "df['tokens'] = df['text'].apply(tokenization)\n",
    "df['text_length'] = df['tokens'].apply(lambda x: len(x))\n",
    "df['length_group'] = df['text_length'].apply(bucketize)"
   ]
  },
  {
   "cell_type": "code",
   "execution_count": 5,
   "id": "539acb7a",
   "metadata": {},
   "outputs": [
    {
     "data": {
      "text/html": [
       "<div>\n",
       "<style scoped>\n",
       "    .dataframe tbody tr th:only-of-type {\n",
       "        vertical-align: middle;\n",
       "    }\n",
       "\n",
       "    .dataframe tbody tr th {\n",
       "        vertical-align: top;\n",
       "    }\n",
       "\n",
       "    .dataframe thead th {\n",
       "        text-align: right;\n",
       "    }\n",
       "</style>\n",
       "<table border=\"1\" class=\"dataframe\">\n",
       "  <thead>\n",
       "    <tr style=\"text-align: right;\">\n",
       "      <th></th>\n",
       "      <th>id</th>\n",
       "      <th>text</th>\n",
       "      <th>term</th>\n",
       "      <th>label_id</th>\n",
       "      <th>label</th>\n",
       "      <th>tvt</th>\n",
       "      <th>pred_0</th>\n",
       "      <th>pred_1</th>\n",
       "      <th>pred_2</th>\n",
       "      <th>label_id_ordinal</th>\n",
       "      <th>pred_label</th>\n",
       "      <th>pred_id</th>\n",
       "      <th>pred_id_ordinal</th>\n",
       "      <th>tokens</th>\n",
       "      <th>text_length</th>\n",
       "      <th>length_group</th>\n",
       "    </tr>\n",
       "  </thead>\n",
       "  <tbody>\n",
       "    <tr>\n",
       "      <th>0</th>\n",
       "      <td>2970</td>\n",
       "      <td>I did not have to call the support line at all.</td>\n",
       "      <td>support line</td>\n",
       "      <td>2</td>\n",
       "      <td>neutral</td>\n",
       "      <td>train</td>\n",
       "      <td>0.008853</td>\n",
       "      <td>0.946791</td>\n",
       "      <td>0.044356</td>\n",
       "      <td>1</td>\n",
       "      <td>negative</td>\n",
       "      <td>1</td>\n",
       "      <td>0</td>\n",
       "      <td>[i, did, not, have, to, call, the, support, li...</td>\n",
       "      <td>12</td>\n",
       "      <td>0</td>\n",
       "    </tr>\n",
       "    <tr>\n",
       "      <th>1</th>\n",
       "      <td>2338</td>\n",
       "      <td>I take it everywhere with me because it's so e...</td>\n",
       "      <td>carry</td>\n",
       "      <td>0</td>\n",
       "      <td>positive</td>\n",
       "      <td>train</td>\n",
       "      <td>0.997106</td>\n",
       "      <td>0.001536</td>\n",
       "      <td>0.001358</td>\n",
       "      <td>2</td>\n",
       "      <td>positive</td>\n",
       "      <td>0</td>\n",
       "      <td>2</td>\n",
       "      <td>[i, take, it, everywhere, with, me, because, i...</td>\n",
       "      <td>14</td>\n",
       "      <td>0</td>\n",
       "    </tr>\n",
       "    <tr>\n",
       "      <th>2</th>\n",
       "      <td>2674</td>\n",
       "      <td>One drawback I noticed was sound quality via USB.</td>\n",
       "      <td>sound quality via USB</td>\n",
       "      <td>1</td>\n",
       "      <td>negative</td>\n",
       "      <td>train</td>\n",
       "      <td>0.010381</td>\n",
       "      <td>0.984811</td>\n",
       "      <td>0.004808</td>\n",
       "      <td>0</td>\n",
       "      <td>negative</td>\n",
       "      <td>1</td>\n",
       "      <td>0</td>\n",
       "      <td>[one, drawback, i, noticed, was, sound, qualit...</td>\n",
       "      <td>10</td>\n",
       "      <td>0</td>\n",
       "    </tr>\n",
       "    <tr>\n",
       "      <th>3</th>\n",
       "      <td>3011</td>\n",
       "      <td>Great OS, fabulous improvements to the existin...</td>\n",
       "      <td>OS</td>\n",
       "      <td>0</td>\n",
       "      <td>positive</td>\n",
       "      <td>train</td>\n",
       "      <td>0.990099</td>\n",
       "      <td>0.007549</td>\n",
       "      <td>0.002352</td>\n",
       "      <td>2</td>\n",
       "      <td>positive</td>\n",
       "      <td>0</td>\n",
       "      <td>2</td>\n",
       "      <td>[great, os, ,, fabulous, improvements, to, the...</td>\n",
       "      <td>20</td>\n",
       "      <td>2</td>\n",
       "    </tr>\n",
       "    <tr>\n",
       "      <th>4</th>\n",
       "      <td>76</td>\n",
       "      <td>I even got my teenage son one, because of the ...</td>\n",
       "      <td>Photobooth</td>\n",
       "      <td>0</td>\n",
       "      <td>positive</td>\n",
       "      <td>train</td>\n",
       "      <td>0.990355</td>\n",
       "      <td>0.004753</td>\n",
       "      <td>0.004892</td>\n",
       "      <td>2</td>\n",
       "      <td>positive</td>\n",
       "      <td>0</td>\n",
       "      <td>2</td>\n",
       "      <td>[i, even, got, my, teenage, son, one, ,, becau...</td>\n",
       "      <td>27</td>\n",
       "      <td>2</td>\n",
       "    </tr>\n",
       "  </tbody>\n",
       "</table>\n",
       "</div>"
      ],
      "text/plain": [
       "     id                                               text  \\\n",
       "0  2970    I did not have to call the support line at all.   \n",
       "1  2338  I take it everywhere with me because it's so e...   \n",
       "2  2674  One drawback I noticed was sound quality via USB.   \n",
       "3  3011  Great OS, fabulous improvements to the existin...   \n",
       "4    76  I even got my teenage son one, because of the ...   \n",
       "\n",
       "                    term  label_id     label    tvt    pred_0    pred_1  \\\n",
       "0           support line         2   neutral  train  0.008853  0.946791   \n",
       "1                  carry         0  positive  train  0.997106  0.001536   \n",
       "2  sound quality via USB         1  negative  train  0.010381  0.984811   \n",
       "3                     OS         0  positive  train  0.990099  0.007549   \n",
       "4             Photobooth         0  positive  train  0.990355  0.004753   \n",
       "\n",
       "     pred_2  label_id_ordinal pred_label  pred_id  pred_id_ordinal  \\\n",
       "0  0.044356                 1   negative        1                0   \n",
       "1  0.001358                 2   positive        0                2   \n",
       "2  0.004808                 0   negative        1                0   \n",
       "3  0.002352                 2   positive        0                2   \n",
       "4  0.004892                 2   positive        0                2   \n",
       "\n",
       "                                              tokens  text_length  \\\n",
       "0  [i, did, not, have, to, call, the, support, li...           12   \n",
       "1  [i, take, it, everywhere, with, me, because, i...           14   \n",
       "2  [one, drawback, i, noticed, was, sound, qualit...           10   \n",
       "3  [great, os, ,, fabulous, improvements, to, the...           20   \n",
       "4  [i, even, got, my, teenage, son, one, ,, becau...           27   \n",
       "\n",
       "   length_group  \n",
       "0             0  \n",
       "1             0  \n",
       "2             0  \n",
       "3             2  \n",
       "4             2  "
      ]
     },
     "execution_count": 5,
     "metadata": {},
     "output_type": "execute_result"
    }
   ],
   "source": [
    "df.head()"
   ]
  },
  {
   "cell_type": "code",
   "execution_count": 6,
   "id": "87d372f4",
   "metadata": {},
   "outputs": [
    {
     "name": "stdout",
     "output_type": "stream",
     "text": [
      "[(0, 3.0), (10, 9.0), (20, 12.0), (30, 14.0), (40, 16.0), (50, 19.0), (60, 21.0), (70, 24.0), (80, 29.0), (90, 37.0), (100, 83.0)]\n"
     ]
    }
   ],
   "source": [
    "p = range(0, 101, 10)\n",
    "print(list(zip(p, np.percentile(df['text_length'], p))))"
   ]
  },
  {
   "cell_type": "code",
   "execution_count": 7,
   "id": "d265514d",
   "metadata": {},
   "outputs": [
    {
     "data": {
      "image/png": "[encoded data removed]",
      "text/plain": [
       "<Figure size 432x288 with 1 Axes>"
      ]
     },
     "metadata": {
      "needs_background": "light"
     },
     "output_type": "display_data"
    }
   ],
   "source": [
    "i1 = df['label']=='positive'\n",
    "i2 = df['label']=='neutral'\n",
    "i3 = df['label']=='negative'\n",
    "col = 'text_length'\n",
    "df[i1][col].hist(alpha=0.5, label='positive')\n",
    "df[i2][col].hist(alpha=0.5, label='neutral')\n",
    "df[i3][col].hist(alpha=0.5, label='negative')\n",
    "plt.legend()\n",
    "plt.title('Distribution of sentence length')\n",
    "plt.show()"
   ]
  },
  {
   "cell_type": "code",
   "execution_count": 8,
   "id": "1edca92e",
   "metadata": {},
   "outputs": [
    {
     "data": {
      "image/png": "[encoded data removed]",
      "text/plain": [
       "<Figure size 432x288 with 1 Axes>"
      ]
     },
     "metadata": {
      "needs_background": "light"
     },
     "output_type": "display_data"
    }
   ],
   "source": [
    "i1 = df['label']=='positive'\n",
    "i2 = df['label']=='neutral'\n",
    "i3 = df['label']=='negative'\n",
    "col = 'pred_0'\n",
    "df[i1][col].hist(alpha=0.5, label='positive')\n",
    "df[i2][col].hist(alpha=0.5, label='neutral')\n",
    "df[i3][col].hist(alpha=0.5, label='negative')\n",
    "plt.legend()\n",
    "plt.title('Distribution of sentence length')\n",
    "plt.show()"
   ]
  },
  {
   "cell_type": "code",
   "execution_count": 9,
   "id": "949f96e1",
   "metadata": {},
   "outputs": [
    {
     "data": {
      "image/png": "[encoded data removed]",
      "text/plain": [
       "<Figure size 432x288 with 1 Axes>"
      ]
     },
     "metadata": {
      "needs_background": "light"
     },
     "output_type": "display_data"
    },
    {
     "data": {
      "image/png": "[encoded data removed]",
      "text/plain": [
       "<Figure size 432x288 with 1 Axes>"
      ]
     },
     "metadata": {
      "needs_background": "light"
     },
     "output_type": "display_data"
    },
    {
     "data": {
      "image/png": "[encoded data removed]",
      "text/plain": [
       "<Figure size 432x288 with 1 Axes>"
      ]
     },
     "metadata": {
      "needs_background": "light"
     },
     "output_type": "display_data"
    }
   ],
   "source": [
    "i1 = df['label']=='positive'\n",
    "i2 = df['label']=='neutral'\n",
    "i3 = df['label']=='negative'\n",
    "col1 = 'pred_0'\n",
    "col2 = 'pred_1'\n",
    "col3 = 'pred_2'\n",
    "df[i1][col1].hist(alpha=0.5, label='positive')\n",
    "df[i1][col2].hist(alpha=0.5, label='negative')\n",
    "df[i1][col3].hist(alpha=0.5, label='neutral')\n",
    "plt.legend()\n",
    "plt.title('Distribution of prediction for positive sentences')\n",
    "plt.show()\n",
    "\n",
    "i1 = df['label']=='positive'\n",
    "i2 = df['label']=='neutral'\n",
    "i3 = df['label']=='negative'\n",
    "col1 = 'pred_0'\n",
    "col2 = 'pred_1'\n",
    "col3 = 'pred_2'\n",
    "df[i2][col1].hist(alpha=0.5, label='positive')\n",
    "df[i2][col2].hist(alpha=0.5, label='negative')\n",
    "df[i2][col3].hist(alpha=0.5, label='neutral')\n",
    "plt.legend()\n",
    "plt.title('Distribution of prediction for neutral sentences')\n",
    "plt.show()\n",
    "\n",
    "\n",
    "i1 = df['label']=='positive'\n",
    "i2 = df['label']=='neutral'\n",
    "i3 = df['label']=='negative'\n",
    "col1 = 'pred_0'\n",
    "col2 = 'pred_1'\n",
    "col3 = 'pred_2'\n",
    "df[i3][col1].hist(alpha=0.5, label='positive')\n",
    "df[i3][col2].hist(alpha=0.5, label='negative')\n",
    "df[i3][col3].hist(alpha=0.5, label='neutral')\n",
    "plt.legend()\n",
    "plt.title('Distribution of prediction for negative sentences')\n",
    "plt.show()"
   ]
  },
  {
   "cell_type": "code",
   "execution_count": 10,
   "id": "c32b648f",
   "metadata": {},
   "outputs": [
    {
     "data": {
      "text/html": [
       "<div>\n",
       "<style scoped>\n",
       "    .dataframe tbody tr th:only-of-type {\n",
       "        vertical-align: middle;\n",
       "    }\n",
       "\n",
       "    .dataframe tbody tr th {\n",
       "        vertical-align: top;\n",
       "    }\n",
       "\n",
       "    .dataframe thead th {\n",
       "        text-align: right;\n",
       "    }\n",
       "</style>\n",
       "<table border=\"1\" class=\"dataframe\">\n",
       "  <thead>\n",
       "    <tr style=\"text-align: right;\">\n",
       "      <th>pred_label</th>\n",
       "      <th>negative</th>\n",
       "      <th>neutral</th>\n",
       "      <th>positive</th>\n",
       "    </tr>\n",
       "    <tr>\n",
       "      <th>label</th>\n",
       "      <th></th>\n",
       "      <th></th>\n",
       "      <th></th>\n",
       "    </tr>\n",
       "  </thead>\n",
       "  <tbody>\n",
       "    <tr>\n",
       "      <th>negative</th>\n",
       "      <td>958</td>\n",
       "      <td>14</td>\n",
       "      <td>26</td>\n",
       "    </tr>\n",
       "    <tr>\n",
       "      <th>neutral</th>\n",
       "      <td>125</td>\n",
       "      <td>439</td>\n",
       "      <td>69</td>\n",
       "    </tr>\n",
       "    <tr>\n",
       "      <th>positive</th>\n",
       "      <td>83</td>\n",
       "      <td>47</td>\n",
       "      <td>1205</td>\n",
       "    </tr>\n",
       "  </tbody>\n",
       "</table>\n",
       "</div>"
      ],
      "text/plain": [
       "pred_label  negative  neutral  positive\n",
       "label                                  \n",
       "negative         958       14        26\n",
       "neutral          125      439        69\n",
       "positive          83       47      1205"
      ]
     },
     "execution_count": 10,
     "metadata": {},
     "output_type": "execute_result"
    }
   ],
   "source": [
    "pred_results = df.groupby(['label', 'pred_label'], as_index=False).size().sort_values('size', ascending=False)\n",
    "pred_results.pivot_table(index='label', columns='pred_label', values='size', aggfunc='sum')"
   ]
  },
  {
   "cell_type": "code",
   "execution_count": 11,
   "id": "e26ed5b9",
   "metadata": {},
   "outputs": [
    {
     "data": {
      "text/plain": [
       "positive    1335\n",
       "negative     998\n",
       "neutral      633\n",
       "Name: label, dtype: int64"
      ]
     },
     "execution_count": 11,
     "metadata": {},
     "output_type": "execute_result"
    }
   ],
   "source": [
    "df['label'].value_counts()"
   ]
  },
  {
   "cell_type": "code",
   "execution_count": 12,
   "id": "d24187b3",
   "metadata": {},
   "outputs": [
    {
     "data": {
      "text/plain": [
       "train    1862\n",
       "test      638\n",
       "val       466\n",
       "Name: tvt, dtype: int64"
      ]
     },
     "execution_count": 12,
     "metadata": {},
     "output_type": "execute_result"
    }
   ],
   "source": [
    "df['tvt'].value_counts()"
   ]
  },
  {
   "cell_type": "code",
   "execution_count": 13,
   "id": "0f73331a",
   "metadata": {},
   "outputs": [],
   "source": [
    "import xgboost as xgb\n",
    "from sklearn.metrics import roc_auc_score, accuracy_score, mean_squared_error\n",
    "from scipy.stats import pearsonr"
   ]
  },
  {
   "cell_type": "code",
   "execution_count": 14,
   "id": "f7ce5ffc",
   "metadata": {},
   "outputs": [],
   "source": [
    "def get_tvt_idx(df, tvt_col='tvt'):\n",
    "    '''\n",
    "    Get train/val/test indexes\n",
    "    \n",
    "    Returns\n",
    "    -------\n",
    "        [('train', train_idx), ('val', val_idx), ('test', test_idx)]\n",
    "        \n",
    "    '''\n",
    "    tvt_idx = [\n",
    "        ('train', df['tvt']=='train'),\n",
    "        ('val', df['tvt']=='val'),\n",
    "        ('test', df['tvt']=='test'),\n",
    "    ]\n",
    "    return tvt_idx  \n",
    "\n",
    "def get_feature_importance_from_model(fmodel, sort=True):\n",
    "    model = fmodel['model']\n",
    "    feature_cnames = fmodel['cname_feats']\n",
    "    pd_imp = pd.DataFrame(list(model.get_booster().get_score(importance_type='gain').items()), columns=['feature', 'importance'])\n",
    "    pd_imp['feature'] = pd_imp['feature'].replace({'f{}'.format(str(i)): feature_cnames[i] for i in range(len(feature_cnames))}) # for ranker\n",
    "    if sort:\n",
    "        pd_imp = pd_imp.sort_values('importance', ascending=False)\n",
    "    return pd_imp\n",
    "\n",
    "def compute_evaluation_metrics(model, best_ntree, x_train, y_train, x_val, y_val, x_test, y_test):\n",
    "    train_score = model.predict_proba(x_train, ntree_limit=best_ntree)\n",
    "    train_pred = model.predict(x_train, ntree_limit=best_ntree)\n",
    "    val_score = model.predict_proba(x_val, ntree_limit=best_ntree)\n",
    "    val_pred = model.predict(x_val, ntree_limit=best_ntree)\n",
    "    test_score = model.predict_proba(x_test, ntree_limit=best_ntree)\n",
    "    test_pred = model.predict(x_test, ntree_limit=best_ntree)\n",
    "    \n",
    "    train_auc = roc_auc_score(y_true=y_train, y_score=train_score, multi_class='ovo')\n",
    "    train_acc = accuracy_score(y_true=y_train, y_pred=train_pred)\n",
    "    val_auc = roc_auc_score(y_true=y_val, y_score=val_score, multi_class='ovo')\n",
    "    val_acc = accuracy_score(y_true=y_val, y_pred=val_pred)\n",
    "    test_auc = roc_auc_score(y_true=y_test, y_score=test_score, multi_class='ovo')\n",
    "    test_acc = accuracy_score(y_true=y_test, y_pred=test_pred)\n",
    "    return train_auc, train_acc, val_auc, val_acc, test_auc, test_acc\n",
    "\n",
    "def train_xgb(dfXY, tvt_idx, cname_feats, cname_target='label', option_init={}, option_fit={}):\n",
    "    default_option_fit = {\n",
    "        'eval_metric': 'auc',\n",
    "        'verbose': False,\n",
    "        'early_stopping_rounds': 20,\n",
    "    }\n",
    "    default_option_init = {\n",
    "        'objective': 'binary:logistic',\n",
    "#         'max_depth': 5,\n",
    "#         'n_estimators': 200,   \n",
    "#         'learning_rate': 0.001,\n",
    "#         'gamma': 0.0,\n",
    "#         'min_child_weight': 10,\n",
    "#         'subsample': 0.1,\n",
    "#         'tree_method': 'hist',\n",
    "#         'colsample_bytree': 0.5,\n",
    "#         'colsample_bylevel': 0.5,\n",
    "#         'reg_alpha': 0.0,\n",
    "#         'reg_lambda': 1.0,\n",
    "        'random_state': 0,\n",
    "        'n_jobs': 32\n",
    "    }\n",
    "    default_option_fit.update(option_fit)\n",
    "    default_option_init.update(option_init)\n",
    "    option_fit = default_option_fit\n",
    "    option_init = default_option_init\n",
    "    \n",
    "    # train/test\n",
    "    x_train = dfXY[tvt_idx[0][1]][cname_feats].values\n",
    "    y_train = dfXY[tvt_idx[0][1]][cname_target].values.astype(\"i4\")\n",
    "    x_val = dfXY[tvt_idx[1][1]][cname_feats].values\n",
    "    y_val = dfXY[tvt_idx[1][1]][cname_target].values.astype(\"i4\")\n",
    "    x_test = dfXY[tvt_idx[2][1]][cname_feats].values\n",
    "    y_test = dfXY[tvt_idx[2][1]][cname_target].values.astype(\"i4\")\n",
    "    \n",
    "    # classify\n",
    "    eval_set = [\n",
    "        (x_train, y_train),\n",
    "        (x_val, y_val),\n",
    "    ]\n",
    "    \n",
    "    model = xgb.XGBClassifier(**option_init)\n",
    "    model.fit(x_train, y_train, eval_set=eval_set, **option_fit)\n",
    "    best_ntree = model.get_booster().best_ntree_limit  \n",
    "    \n",
    "    train_auc, train_acc, val_auc, val_acc, test_auc, test_acc = compute_evaluation_metrics(\n",
    "        model, best_ntree, x_train, y_train, x_val, y_val, x_test, y_test)\n",
    "    print('n_features n_train n_val n_test n_tree train_auc train_acc val_auc val_acc test_auc test_acc')\n",
    "    print('{} {} {} {} {} {:.5f} {:.5f} {:.5f} {:.5f} {:.5f} {:.5f}'.format(\n",
    "        len(cname_feats), x_train.shape[0], x_val.shape[0], x_test.shape[0], best_ntree,\n",
    "        train_auc, train_acc, val_auc, val_acc, test_auc, test_acc))\n",
    "    \n",
    "    # track\n",
    "    fmodel = {\n",
    "        'model': model,\n",
    "        'cname_target': cname_target,\n",
    "        'cname_feats': cname_feats,  \n",
    "    }\n",
    "    return fmodel\n",
    "\n",
    "def compute_evaluation_metrics_reg(model, best_ntree, x_train, y_train, x_val, y_val, x_test, y_test):\n",
    "    pred_train = model.predict(x_train, ntree_limit=best_ntree)\n",
    "    pred_val = model.predict(x_val, ntree_limit=best_ntree)\n",
    "    pred_test = model.predict(x_test, ntree_limit=best_ntree)\n",
    "    \n",
    "    mse_train = mean_squared_error(y_true=y_train, y_pred=pred_train)\n",
    "    corr_train = pearsonr(y_train, pred_train)[0]\n",
    "    mse_val = mean_squared_error(y_true=y_val, y_pred=pred_val)\n",
    "    corr_val = pearsonr(y_val, pred_val)[0]\n",
    "    mse_test = mean_squared_error(y_true=y_test, y_pred=pred_test)\n",
    "    corr_test = pearsonr(y_test, pred_test)[0]\n",
    "    return mse_train, corr_train, mse_val, corr_val, mse_test, corr_test\n",
    "\n",
    "def train_xgb_regressor(dfXY, tvt_idx, cname_feats, cname_target='label', option_init={}, option_fit={}):\n",
    "    default_option_fit = {\n",
    "        'eval_metric': 'rmse',\n",
    "        'verbose': False,\n",
    "        'early_stopping_rounds': 20,\n",
    "    }\n",
    "    default_option_init = {\n",
    "        'objective': 'reg:squarederror',\n",
    "#         'max_depth': 5,\n",
    "#         'n_estimators': 200,   \n",
    "#         'learning_rate': 0.001,\n",
    "#         'gamma': 0.0,\n",
    "#         'min_child_weight': 10,\n",
    "#         'subsample': 0.1,\n",
    "#         'tree_method': 'hist',\n",
    "#         'colsample_bytree': 0.5,\n",
    "#         'colsample_bylevel': 0.5,\n",
    "#         'reg_alpha': 0.0,\n",
    "#         'reg_lambda': 1.0,\n",
    "        'random_state': 0,\n",
    "        'n_jobs': 32\n",
    "    }\n",
    "    default_option_fit.update(option_fit)\n",
    "    default_option_init.update(option_init)\n",
    "    option_fit = default_option_fit\n",
    "    option_init = default_option_init\n",
    "    \n",
    "    # train/test\n",
    "    x_train = dfXY[tvt_idx[0][1]][cname_feats].values\n",
    "    y_train = dfXY[tvt_idx[0][1]][cname_target].values.astype(\"i4\")\n",
    "    x_val = dfXY[tvt_idx[1][1]][cname_feats].values\n",
    "    y_val = dfXY[tvt_idx[1][1]][cname_target].values.astype(\"i4\")\n",
    "    x_test = dfXY[tvt_idx[2][1]][cname_feats].values\n",
    "    y_test = dfXY[tvt_idx[2][1]][cname_target].values.astype(\"i4\")\n",
    "    \n",
    "    # classify\n",
    "    eval_set = [\n",
    "        (x_train, y_train),\n",
    "        (x_val, y_val),\n",
    "    ]\n",
    "    \n",
    "    model = xgb.XGBRegressor(**option_init)\n",
    "    model.fit(x_train, y_train, eval_set=eval_set, **option_fit)\n",
    "    best_ntree = model.get_booster().best_ntree_limit  \n",
    "    \n",
    "    mse_train, corr_train, mse_val, corr_val, mse_test, corr_test = compute_evaluation_metrics_reg(\n",
    "        model, best_ntree, x_train, y_train, x_val, y_val, x_test, y_test)\n",
    "    print('n_features n_train n_val n_test n_tree mse_train corr_train mse_val corr_val mse_test corr_test')\n",
    "    print('{} {} {} {} {} {:.5f} {:.5f} {:.5f} {:.5f} {:.5f} {:.5f}'.format(\n",
    "        len(cname_feats), x_train.shape[0], x_val.shape[0], x_test.shape[0], best_ntree,\n",
    "        mse_train, corr_train, mse_val, corr_val, mse_test, corr_test))\n",
    "   \n",
    "    # track\n",
    "    fmodel = {\n",
    "        'model': model,\n",
    "        'cname_target': cname_target,\n",
    "        'cname_feats': cname_feats,  \n",
    "    }\n",
    "    return fmodel"
   ]
  },
  {
   "cell_type": "code",
   "execution_count": 15,
   "id": "232ab761",
   "metadata": {},
   "outputs": [
    {
     "name": "stdout",
     "output_type": "stream",
     "text": [
      "Test AUC: 0.865054829888887\n",
      "Test ACC: 0.7163009404388715\n"
     ]
    }
   ],
   "source": [
    "i_test = df['tvt']=='test'\n",
    "test_auc = roc_auc_score(\n",
    "    y_true=df[i_test]['label_id'], y_score=df[i_test][['pred_0', 'pred_1', 'pred_2']], multi_class='ovo')\n",
    "test_acc = accuracy_score(y_true=df[i_test]['label_id'], y_pred=df[i_test]['pred_id'])\n",
    "print(f'Test AUC: {test_auc}')\n",
    "print(f'Test ACC: {test_acc}')"
   ]
  },
  {
   "cell_type": "code",
   "execution_count": 26,
   "id": "99f091a0",
   "metadata": {},
   "outputs": [
    {
     "name": "stdout",
     "output_type": "stream",
     "text": [
      "Test AUC: 0.865054829888887\n",
      "Test ACC: 0.7163009404388715\n",
      "Test CORR: 0.6674615965403976\n"
     ]
    }
   ],
   "source": [
    "i_test = df['tvt']=='test'\n",
    "test_auc = roc_auc_score(\n",
    "    y_true=df[i_test]['label_id_ordinal'], y_score=df[i_test][['pred_1', 'pred_2', 'pred_0']], multi_class='ovo')\n",
    "test_acc = accuracy_score(y_true=df[i_test]['label_id_ordinal'], y_pred=df[i_test]['pred_id_ordinal'])\n",
    "test_corr = pearsonr(df[i_test]['label_id_ordinal'], df[i_test]['pred_id_ordinal'])[0]\n",
    "print(f'Test AUC: {test_auc}')\n",
    "print(f'Test ACC: {test_acc}')\n",
    "print(f'Test CORR: {test_corr}')"
   ]
  },
  {
   "cell_type": "code",
   "execution_count": 22,
   "id": "dbe7f42a",
   "metadata": {},
   "outputs": [
    {
     "name": "stdout",
     "output_type": "stream",
     "text": [
      "n_features n_train n_val n_test n_tree train_auc train_acc val_auc val_acc test_auc test_acc\n",
      "4 1862 466 638 24 0.97998 0.94092 0.97447 0.92275 0.84545 0.73197\n"
     ]
    },
    {
     "name": "stderr",
     "output_type": "stream",
     "text": [
      "/home/hoang/miniconda2/envs/py38/lib/python3.8/site-packages/xgboost/sklearn.py:1224: UserWarning: The use of label encoder in XGBClassifier is deprecated and will be removed in a future release. To remove this warning, do the following: 1) Pass option use_label_encoder=False when constructing XGBClassifier object; and 2) Encode your labels (y) as integers starting with 0, i.e. 0, 1, 2, ..., [num_class - 1].\n",
      "  warnings.warn(label_encoder_deprecation_msg, UserWarning)\n",
      "/home/hoang/miniconda2/envs/py38/lib/python3.8/site-packages/xgboost/core.py:105: UserWarning: ntree_limit is deprecated, use `iteration_range` or model slicing instead.\n",
      "  warnings.warn(\n"
     ]
    },
    {
     "data": {
      "text/html": [
       "<div>\n",
       "<style scoped>\n",
       "    .dataframe tbody tr th:only-of-type {\n",
       "        vertical-align: middle;\n",
       "    }\n",
       "\n",
       "    .dataframe tbody tr th {\n",
       "        vertical-align: top;\n",
       "    }\n",
       "\n",
       "    .dataframe thead th {\n",
       "        text-align: right;\n",
       "    }\n",
       "</style>\n",
       "<table border=\"1\" class=\"dataframe\">\n",
       "  <thead>\n",
       "    <tr style=\"text-align: right;\">\n",
       "      <th></th>\n",
       "      <th>feature</th>\n",
       "      <th>importance</th>\n",
       "    </tr>\n",
       "  </thead>\n",
       "  <tbody>\n",
       "    <tr>\n",
       "      <th>2</th>\n",
       "      <td>pred_1</td>\n",
       "      <td>41.086807</td>\n",
       "    </tr>\n",
       "    <tr>\n",
       "      <th>1</th>\n",
       "      <td>pred_0</td>\n",
       "      <td>35.766983</td>\n",
       "    </tr>\n",
       "    <tr>\n",
       "      <th>3</th>\n",
       "      <td>pred_2</td>\n",
       "      <td>27.513412</td>\n",
       "    </tr>\n",
       "    <tr>\n",
       "      <th>0</th>\n",
       "      <td>length_group</td>\n",
       "      <td>2.499413</td>\n",
       "    </tr>\n",
       "  </tbody>\n",
       "</table>\n",
       "</div>"
      ],
      "text/plain": [
       "        feature  importance\n",
       "2        pred_1   41.086807\n",
       "1        pred_0   35.766983\n",
       "3        pred_2   27.513412\n",
       "0  length_group    2.499413"
      ]
     },
     "metadata": {},
     "output_type": "display_data"
    }
   ],
   "source": [
    "tvt_idx = get_tvt_idx(df)\n",
    "cname_feats = sorted(['pred_0', 'pred_1', 'pred_2', 'length_group'])\n",
    "option_init = {\n",
    "    'n_estimators': 1000,\n",
    "    'learning_rate': 0.001,\n",
    "    'subsample': 0.9,\n",
    "    'colsample_bytree': 0.7,\n",
    "    'colsample_bylevel': 0.7,\n",
    "    'random_state': 3,\n",
    "}\n",
    "fmodel = train_xgb(\n",
    "    dfXY=df, tvt_idx=tvt_idx, cname_feats=cname_feats, cname_target='label_id', option_init=option_init)\n",
    "display(get_feature_importance_from_model(fmodel))"
   ]
  },
  {
   "cell_type": "code",
   "execution_count": 23,
   "id": "b4cbc4c0",
   "metadata": {},
   "outputs": [
    {
     "name": "stdout",
     "output_type": "stream",
     "text": [
      "n_features n_train n_val n_test n_tree mse_train corr_train mse_val corr_val mse_test corr_test\n",
      "4 1862 466 638 4295 0.05879 0.96425 0.10211 0.93716 0.32468 0.72815\n"
     ]
    },
    {
     "name": "stderr",
     "output_type": "stream",
     "text": [
      "/home/hoang/miniconda2/envs/py38/lib/python3.8/site-packages/xgboost/core.py:105: UserWarning: ntree_limit is deprecated, use `iteration_range` or model slicing instead.\n",
      "  warnings.warn(\n"
     ]
    },
    {
     "data": {
      "text/html": [
       "<div>\n",
       "<style scoped>\n",
       "    .dataframe tbody tr th:only-of-type {\n",
       "        vertical-align: middle;\n",
       "    }\n",
       "\n",
       "    .dataframe tbody tr th {\n",
       "        vertical-align: top;\n",
       "    }\n",
       "\n",
       "    .dataframe thead th {\n",
       "        text-align: right;\n",
       "    }\n",
       "</style>\n",
       "<table border=\"1\" class=\"dataframe\">\n",
       "  <thead>\n",
       "    <tr style=\"text-align: right;\">\n",
       "      <th></th>\n",
       "      <th>feature</th>\n",
       "      <th>importance</th>\n",
       "    </tr>\n",
       "  </thead>\n",
       "  <tbody>\n",
       "    <tr>\n",
       "      <th>2</th>\n",
       "      <td>pred_1</td>\n",
       "      <td>9.571001</td>\n",
       "    </tr>\n",
       "    <tr>\n",
       "      <th>1</th>\n",
       "      <td>pred_0</td>\n",
       "      <td>9.051040</td>\n",
       "    </tr>\n",
       "    <tr>\n",
       "      <th>3</th>\n",
       "      <td>pred_2</td>\n",
       "      <td>2.561548</td>\n",
       "    </tr>\n",
       "    <tr>\n",
       "      <th>0</th>\n",
       "      <td>length_group</td>\n",
       "      <td>0.389143</td>\n",
       "    </tr>\n",
       "  </tbody>\n",
       "</table>\n",
       "</div>"
      ],
      "text/plain": [
       "        feature  importance\n",
       "2        pred_1    9.571001\n",
       "1        pred_0    9.051040\n",
       "3        pred_2    2.561548\n",
       "0  length_group    0.389143"
      ]
     },
     "metadata": {},
     "output_type": "display_data"
    }
   ],
   "source": [
    "tvt_idx = get_tvt_idx(df)\n",
    "cname_feats = sorted(['pred_0', 'pred_1', 'pred_2', 'length_group'])\n",
    "option_init = {\n",
    "    'n_estimators': 20000,\n",
    "    'learning_rate': 0.001,\n",
    "    'subsample': 0.9,\n",
    "    'colsample_bytree': 0.7,\n",
    "    'colsample_bylevel': 0.7,\n",
    "    'random_state': 0,\n",
    "}\n",
    "fmodel = train_xgb_regressor(\n",
    "    dfXY=df, tvt_idx=tvt_idx, cname_feats=cname_feats, cname_target='label_id_ordinal', option_init=option_init)\n",
    "display(get_feature_importance_from_model(fmodel))"
   ]
  },
  {
   "cell_type": "code",
   "execution_count": 120,
   "id": "f3d1c23c",
   "metadata": {},
   "outputs": [],
   "source": [
    "# def get_XYG(pdXY, features, target, query_id):\n",
    "#     z = pdXY.sort_values(query_id)\n",
    "#     X = z[features].values\n",
    "#     Y = z[target].values\n",
    "#     G = list(pdXY.groupby(query_id).size())\n",
    "#     return X,Y,G\n",
    "\n",
    "# def compute_evaluation_metrics(model, best_ntree, x_train, y_train, x_val, y_val, x_test, y_test):\n",
    "# #     train_score = model.predict_proba(x_train, ntree_limit=best_ntree)\n",
    "#     train_pred = model.predict(x_train, ntree_limit=best_ntree)\n",
    "# #     val_score = model.predict_proba(x_val, ntree_limit=best_ntree)\n",
    "#     val_pred = model.predict(x_val, ntree_limit=best_ntree)\n",
    "# #     test_score = model.predict_proba(x_test, ntree_limit=best_ntree)\n",
    "#     test_pred = model.predict(x_test, ntree_limit=best_ntree)\n",
    "#     print(train_pred)\n",
    "#     train_auc = roc_auc_score(y_true=y_train, y_score=train_pred)\n",
    "#     train_acc = 0\n",
    "#     val_auc = roc_auc_score(y_true=y_val, y_score=train_pred, multi_class='ovo')\n",
    "#     val_acc = 0\n",
    "#     test_auc = roc_auc_score(y_true=y_test, y_score=train_pred, multi_class='ovo')\n",
    "#     test_acc = 0\n",
    "#     return train_auc, train_acc, val_auc, val_acc, test_auc, test_acc\n",
    "\n",
    "# def train_xgb_ranker(\n",
    "#     dfXY, tvt_idx, cname_feats, cname_target='label', query_id='length_group', option_init={}, option_fit={}):\n",
    "#     default_option_fit = {\n",
    "#         'eval_metric': 'auc',\n",
    "#         'verbose': False,\n",
    "#         'early_stopping_rounds': 20,\n",
    "#     }\n",
    "#     default_option_init = {\n",
    "#            'objective': 'rank:pairwise',\n",
    "# #         'max_depth': 5,\n",
    "# #         'n_estimators': 200,   \n",
    "# #         'learning_rate': 0.001,\n",
    "# #         'gamma': 0.0,\n",
    "# #         'min_child_weight': 10,\n",
    "# #         'subsample': 0.1,\n",
    "# #         'tree_method': 'hist',\n",
    "# #         'colsample_bytree': 0.5,\n",
    "# #         'colsample_bylevel': 0.5,\n",
    "# #         'reg_alpha': 0.0,\n",
    "# #         'reg_lambda': 1.0,\n",
    "#         'random_state': 0,\n",
    "#         'n_jobs': 32\n",
    "#     }\n",
    "#     default_option_fit.update(option_fit)\n",
    "#     default_option_init.update(option_init)\n",
    "#     option_fit = default_option_fit\n",
    "#     option_init = default_option_init\n",
    "    \n",
    "#     x_train, y_train, g_train = get_XYG(dfXY[tvt_idx[0][1]], cname_feats, cname_target, query_id)\n",
    "#     x_val, y_val, g_val = get_XYG(dfXY[tvt_idx[1][1]], cname_feats, cname_target, query_id)\n",
    "#     x_test, y_test, g_test = get_XYG(dfXY[tvt_idx[2][1]], cname_feats, cname_target, query_id)\n",
    "    \n",
    "#     eval_set = [\n",
    "#         (x_train, y_train),\n",
    "#         (x_val, y_val),\n",
    "#     ]\n",
    "#     eval_group = [g_train, g_val]\n",
    "    \n",
    "#     model = xgb.XGBRanker(**option_init)\n",
    "#     model.fit(x_train, y_train, g_train, eval_set=eval_set, eval_group=eval_group, **option_fit)    \n",
    "#     best_ntree = model.get_booster().best_ntree_limit  \n",
    "    \n",
    "#     train_auc, train_acc, val_auc, val_acc, test_auc, test_acc = compute_evaluation_metrics(\n",
    "#         model, best_ntree, x_train, y_train, x_val, y_val, x_test, y_test)\n",
    "#     print('n_features n_train n_val n_test n_tree train_auc train_acc val_auc val_acc test_auc test_acc')\n",
    "#     print('{} {} {} {} {} {:.5f} {:.5f} {:.5f} {:.5f} {:.5f} {:.5f}'.format(\n",
    "#         len(cname_feats), x_train.shape[0], x_val.shape[0], x_test.shape[0], best_ntree,\n",
    "#         train_auc, train_acc, val_auc, val_acc, test_auc, test_acc))\n",
    "    \n",
    "#     # track\n",
    "#     fmodel = {\n",
    "#         'model': model,\n",
    "#         'cname_target': cname_target,\n",
    "#         'cname_feats': cname_feats,  \n",
    "#     }\n",
    "#     return fmodel"
   ]
  },
  {
   "cell_type": "code",
   "execution_count": 121,
   "id": "5480d51a",
   "metadata": {},
   "outputs": [],
   "source": [
    "# fmodel = train_xgb_ranker(\n",
    "#     dfXY=df, tvt_idx=tvt_idx, cname_feats=cname_feats, cname_target='label_id', option_init=option_init)\n",
    "# display(get_feature_importance_from_model(fmodel))"
   ]
  },
  {
   "cell_type": "code",
   "execution_count": null,
   "id": "fb525f0b",
   "metadata": {},
   "outputs": [],
   "source": []
  }
 ],
 "metadata": {
  "kernelspec": {
   "display_name": "Python 3 (ipykernel)",
   "language": "python",
   "name": "python3"
  },
  "language_info": {
   "codemirror_mode": {
    "name": "ipython",
    "version": 3
   },
   "file_extension": ".py",
   "mimetype": "text/x-python",
   "name": "python",
   "nbconvert_exporter": "python",
   "pygments_lexer": "ipython3",
   "version": "3.8.10"
  },
  "toc": {
   "base_numbering": 1,
   "nav_menu": {},
   "number_sections": true,
   "sideBar": true,
   "skip_h1_title": false,
   "title_cell": "Table of Contents",
   "title_sidebar": "Contents",
   "toc_cell": false,
   "toc_position": {
    "height": "calc(100% - 180px)",
    "left": "10px",
    "top": "150px",
    "width": "165px"
   },
   "toc_section_display": true,
   "toc_window_display": false
  }
 },
 "nbformat": 4,
 "nbformat_minor": 5
}
